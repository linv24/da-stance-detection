{
 "cells": [
  {
   "cell_type": "markdown",
   "metadata": {},
   "source": [
    "# Init"
   ]
  },
  {
   "cell_type": "code",
   "execution_count": 112,
   "metadata": {},
   "outputs": [],
   "source": [
    "import pandas as pd\n",
    "from bert_score import BERTScorer\n",
    "import csv\n",
    "\n",
    "import eval_util"
   ]
  },
  {
   "cell_type": "code",
   "execution_count": 10,
   "metadata": {},
   "outputs": [
    {
     "name": "stderr",
     "output_type": "stream",
     "text": [
      "Some weights of RobertaModel were not initialized from the model checkpoint at roberta-large and are newly initialized: ['roberta.pooler.dense.weight', 'roberta.pooler.dense.bias']\n",
      "You should probably TRAIN this model on a down-stream task to be able to use it for predictions and inference.\n"
     ]
    }
   ],
   "source": [
    "scorer = BERTScorer(lang='en', rescale_with_baseline=True)"
   ]
  },
  {
   "cell_type": "markdown",
   "metadata": {},
   "source": [
    "# SR"
   ]
  },
  {
   "cell_type": "code",
   "execution_count": 110,
   "metadata": {},
   "outputs": [
    {
     "name": "stdout",
     "output_type": "stream",
     "text": [
      "(5832, 3)\n"
     ]
    },
    {
     "data": {
      "text/html": [
       "<div>\n",
       "<style scoped>\n",
       "    .dataframe tbody tr th:only-of-type {\n",
       "        vertical-align: middle;\n",
       "    }\n",
       "\n",
       "    .dataframe tbody tr th {\n",
       "        vertical-align: top;\n",
       "    }\n",
       "\n",
       "    .dataframe thead th {\n",
       "        text-align: right;\n",
       "    }\n",
       "</style>\n",
       "<table border=\"1\" class=\"dataframe\">\n",
       "  <thead>\n",
       "    <tr style=\"text-align: right;\">\n",
       "      <th></th>\n",
       "      <th>Tweet</th>\n",
       "      <th>Target</th>\n",
       "      <th>Stance</th>\n",
       "    </tr>\n",
       "  </thead>\n",
       "  <tbody>\n",
       "    <tr>\n",
       "      <th>0</th>\n",
       "      <td>He who exalts himself shall be humbled; and he...</td>\n",
       "      <td>Atheism</td>\n",
       "      <td>0</td>\n",
       "    </tr>\n",
       "    <tr>\n",
       "      <th>1</th>\n",
       "      <td>He WHO exalts himself shall be humbled ; and h...</td>\n",
       "      <td>Atheism</td>\n",
       "      <td>0</td>\n",
       "    </tr>\n",
       "    <tr>\n",
       "      <th>2</th>\n",
       "      <td>He WHO exalts himself shall be humbled ; and a...</td>\n",
       "      <td>Atheism</td>\n",
       "      <td>0</td>\n",
       "    </tr>\n",
       "    <tr>\n",
       "      <th>3</th>\n",
       "      <td>RT @prayerbullets: I remove Nehushtan -previou...</td>\n",
       "      <td>Atheism</td>\n",
       "      <td>0</td>\n",
       "    </tr>\n",
       "    <tr>\n",
       "      <th>4</th>\n",
       "      <td>RT @ prayerbullets : I remove Nehushtan -previ...</td>\n",
       "      <td>Atheism</td>\n",
       "      <td>0</td>\n",
       "    </tr>\n",
       "  </tbody>\n",
       "</table>\n",
       "</div>"
      ],
      "text/plain": [
       "                                               Tweet   Target  Stance\n",
       "0  He who exalts himself shall be humbled; and he...  Atheism       0\n",
       "1  He WHO exalts himself shall be humbled ; and h...  Atheism       0\n",
       "2  He WHO exalts himself shall be humbled ; and a...  Atheism       0\n",
       "3  RT @prayerbullets: I remove Nehushtan -previou...  Atheism       0\n",
       "4  RT @ prayerbullets : I remove Nehushtan -previ...  Atheism       0"
      ]
     },
     "execution_count": 110,
     "metadata": {},
     "output_type": "execute_result"
    }
   ],
   "source": [
    "sr_csv = 'augment/data/sr_augmented.csv'\n",
    "sr_df = pd.read_csv(sr_csv)\n",
    "print(sr_df.shape)\n",
    "sr_df.head()"
   ]
  },
  {
   "cell_type": "code",
   "execution_count": 98,
   "metadata": {},
   "outputs": [
    {
     "name": "stdout",
     "output_type": "stream",
     "text": [
      "I pray for the best for everybody ! ! ! # SemST\n",
      "@Brasilmagic @neiltyson there's no god 2b tired of, just tired o ppl believing in such nonsense. Time 2 focus on reality, HUMANITY #SemST\n",
      "@ Brasilmagic @ neiltyson there 's No god 2b tired of , just tired o ppl believing in such nonsense . Time two focus on reality , HUMANITY # SemST\n",
      "tensor([-0.0363, -0.0207])\n"
     ]
    }
   ],
   "source": [
    "i = 600\n",
    "assert i % 3 == 0\n",
    "\n",
    "print(sr_df.iloc[i]['Tweet'])\n",
    "print(sr_df.iloc[i+1]['Tweet'])\n",
    "print(sr_df.iloc[i+2]['Tweet'])\n",
    "\n",
    "print(eval_util.get_bertscore(scorer,\n",
    "                              sr_df.iloc[i]['Tweet'],\n",
    "                              [sr_df.iloc[i+1]['Tweet'],\n",
    "                               sr_df.iloc[i+2]['Tweet']]))"
   ]
  },
  {
   "cell_type": "code",
   "execution_count": 120,
   "metadata": {},
   "outputs": [
    {
     "name": "stdout",
     "output_type": "stream",
     "text": [
      "1200\n",
      "Husband: \"They should know that she's always born with it. It's never Maybelline.\" #beauty #SemST\n",
      "Husband : `` They should get laid that she 's always Born with it . information technology 's ne'er Maybelline . '' # mantrap # SemST\n",
      "husband : `` They should bed that she 's incessantly born with it . It 's never Maybelline . '' # beauty # SemST\n",
      "score=tensor([0.2535, 0.4795])\n"
     ]
    }
   ],
   "source": [
    "# detecting errors in sr csv\n",
    "\n",
    "i = 1185\n",
    "\n",
    "while i < sr_df.shape[0]:\n",
    "    score = eval_util.get_bertscore(scorer,\n",
    "                                    sr_df.iloc[i]['Tweet'],\n",
    "                                    [sr_df.iloc[i+1]['Tweet'],\n",
    "                                     sr_df.iloc[i+2]['Tweet']])\n",
    "    if score[0] < 0.3 or score[1] < 0.3:\n",
    "        print(i)\n",
    "        print(sr_df.iloc[i]['Tweet'])\n",
    "        print(sr_df.iloc[i+1]['Tweet'])\n",
    "        print(sr_df.iloc[i+2]['Tweet'])\n",
    "        print(f'{score=}')\n",
    "        break\n",
    "    i += 3"
   ]
  },
  {
   "cell_type": "code",
   "execution_count": null,
   "metadata": {},
   "outputs": [],
   "source": [
    "# calculate bertscores for sr csv. each tweet has 2 sr augmentations, so\n",
    "# tweets are grouped into 3s. scores generated by pairs, so scores in written\n",
    "# file are grouped into 2s\n",
    "# score for first 1000 original tweets\n",
    "\n",
    "sr_scores = []\n",
    "\n",
    "for i in range(0, sr_df.shape[0], 3):\n"
   ]
  }
 ],
 "metadata": {
  "kernelspec": {
   "display_name": "venv",
   "language": "python",
   "name": "python3"
  },
  "language_info": {
   "codemirror_mode": {
    "name": "ipython",
    "version": 3
   },
   "file_extension": ".py",
   "mimetype": "text/x-python",
   "name": "python",
   "nbconvert_exporter": "python",
   "pygments_lexer": "ipython3",
   "version": "3.11.2"
  }
 },
 "nbformat": 4,
 "nbformat_minor": 2
}
