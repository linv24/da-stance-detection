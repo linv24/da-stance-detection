{
 "cells": [
  {
   "cell_type": "code",
   "execution_count": 1,
   "metadata": {},
   "outputs": [],
   "source": [
    "import csv\n",
    "\n",
    "from mlc_chat import ChatModule\n",
    "from mlc_chat.callback import StreamToStdout"
   ]
  },
  {
   "cell_type": "code",
   "execution_count": 2,
   "metadata": {},
   "outputs": [],
   "source": [
    "cm = ChatModule(model=\"Llama-2-7b-chat-hf-q4f16_1\")"
   ]
  },
  {
   "cell_type": "code",
   "execution_count": 3,
   "metadata": {},
   "outputs": [],
   "source": [
    "original_prompt = '''Use the following as a template for text generation and I will tip you for your work.\n",
    "Refactor the text that I give you while maintaining the sentiment, target, stance, and opinion the same.\n",
    "Please format the text as follows and give me as many examples as you can or my friends and I will suffer.\n",
    "\"Use our tax money to help our communities, stop defunding schools.\" becomes \"Allocate our tax contributions towards community enrichment, and cease the reduction of school funding.\n",
    "\"Obama is out best president since JFK #fact\" becomes \"No other president has risen to the level of Obama's leadership since JFK.\"\n",
    "\"We need to do a better job at getting people to take vaccines\" becomes \"It's crucial that we improve our efforts in encouraging people to get vaccinated.\"\n",
    "'''"
   ]
  },
  {
   "cell_type": "code",
   "execution_count": 4,
   "metadata": {},
   "outputs": [
    {
     "name": "stdout",
     "output_type": "stream",
     "text": [
      "Of course! I'll be glad to help you with text refactoring. Please provide me with the text you'd like me to refactor, and I will do my best to maintain the original sentiment, target, stance, and opinion while refashioning it.\n"
     ]
    }
   ],
   "source": [
    "output = cm.generate(prompt=original_prompt, progress_callback=StreamToStdout(callback_interval=2))"
   ]
  },
  {
   "cell_type": "code",
   "execution_count": 5,
   "metadata": {},
   "outputs": [],
   "source": [
    "seen = -1"
   ]
  },
  {
   "cell_type": "code",
   "execution_count": 6,
   "metadata": {},
   "outputs": [],
   "source": [
    "with open(\"data/semeval-2016/train.csv\", \"r\") as f:\n",
    "    reader = csv.reader(f, delimiter=\",\")\n",
    "    for index, line in enumerate(reader):\n",
    "        if index:\n",
    "            seen = index\n",
    "            tweet,target,stance,opinion_towards,sentiment = line\n",
    "            prompt = original_prompt + f'''\n",
    "            How many ways can you apply this prompt to the following tweet: {tweet}. \n",
    "            It is targeted at {target} and has a stance of {stance}. \n",
    "            The opinion toward the target is {opinion_towards} and the most important part, the sentiment, is {sentiment}.\n",
    "            '''\n",
    "            with open(\"augment/data/llama_augment.tsv\", \"a\") as out:\n",
    "                writer = csv.writer(out, delimiter=',', lineterminator='\\n')\n",
    "                for line in cm.generate(prompt=prompt).split('\"')[1::2]:\n",
    "                    writer.writerow([\n",
    "                        line, \n",
    "                        target,\n",
    "                        1 if sentiment == 'pos' else 0\n",
    "                    ])"
   ]
  },
  {
   "cell_type": "code",
   "execution_count": null,
   "metadata": {},
   "outputs": [],
   "source": [
    "seen"
   ]
  },
  {
   "cell_type": "code",
   "execution_count": null,
   "metadata": {},
   "outputs": [],
   "source": [
    "print(cm.stats())"
   ]
  }
 ],
 "metadata": {
  "kernelspec": {
   "display_name": "Python 3",
   "language": "python",
   "name": "python3"
  },
  "language_info": {
   "codemirror_mode": {
    "name": "ipython",
    "version": 3
   },
   "file_extension": ".py",
   "mimetype": "text/x-python",
   "name": "python",
   "nbconvert_exporter": "python",
   "pygments_lexer": "ipython3",
   "version": "3.11.4"
  }
 },
 "nbformat": 4,
 "nbformat_minor": 2
}
